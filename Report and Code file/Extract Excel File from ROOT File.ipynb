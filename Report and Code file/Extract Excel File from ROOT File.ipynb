{
 "cells": [
  {
   "cell_type": "code",
   "execution_count": null,
   "id": "1ea064ba-c917-4e70-a914-81147f6cc6e7",
   "metadata": {},
   "outputs": [],
   "source": [
    "# Uproot library is used to convert ROOT Data Formate into Datafrmae\n",
    "import uproot\n",
    "import pandas as pd\n",
    "\n",
    "# Specify the path to your ROOT file\n",
    "root_file_path = \"/home/syed/Downloads/dataset/weights/tmva_fourtop_wboson_sbtrees.root\"\n",
    "\n",
    "#Open the ROOT file\n",
    "\n",
    "file = uproot.open(root_file_path)\n",
    "\n",
    "# List the available keys (trees) in the ROOT file\n",
    "print(file.keys())\n"
   ]
  },
  {
   "cell_type": "code",
   "execution_count": 9,
   "id": "45bce34f-eb10-4349-ae79-b174c2d1e824",
   "metadata": {
    "scrolled": true
   },
   "outputs": [
    {
     "name": "stdout",
     "output_type": "stream",
     "text": [
      "   siganl_weight     jet1_pt     jet2_pt     jet3_pt     jet4_pt     jet5_pt  \\\n",
      "0   4.483259e-07  173.034775  156.897537   86.575188   71.896362   68.743156   \n",
      "1   4.483259e-07  140.163620  134.187286  116.484482   92.105598   66.637825   \n",
      "2   4.483259e-07  455.637024  316.880127  186.414948  184.964386  142.811707   \n",
      "3   4.483259e-07  284.727386  240.010071  232.987961  109.618019   97.330498   \n",
      "4   4.483259e-07  307.271576  250.632828  182.247269  116.416428   75.660553   \n",
      "\n",
      "      jet6_pt  numJets  numBJets    bjet1_pt  ...    Scalar_HT  missing_ET  \\\n",
      "0   64.994034       14         3  156.897537  ...   937.702026  144.099930   \n",
      "1   64.564697       10         4  134.187286  ...   786.723145   15.960485   \n",
      "2  135.840546       14         5  316.880127  ...  1944.163818   46.435917   \n",
      "3   84.789009       15         2  240.010071  ...  1493.101440   48.165051   \n",
      "4   71.928635       11         4  250.632828  ...  1181.556274    1.918720   \n",
      "\n",
      "   rat_MET_HT  deltaEta_jets  deltaPhi_jets  deltaEta_bjets  deltaPhi_bjets  \\\n",
      "0    4.705777       0.610216       0.767123       -0.797419        0.721574   \n",
      "1    0.569030       0.595912       3.703912        0.160582       -3.763749   \n",
      "2    1.053144       0.852900      -2.355428       -1.971783        3.390985   \n",
      "3    1.246486       1.459665       3.615045       -2.135111       -0.397436   \n",
      "4    0.055819       1.454572       2.976023       -0.322397       -0.520300   \n",
      "\n",
      "   deltaR_jets  deltaR_bjets    top_mass  \n",
      "0     0.980225      1.075428  165.831696  \n",
      "1     3.751543      3.767173  170.195282  \n",
      "2     2.505090      3.922589  176.549606  \n",
      "3     3.898612      2.171786  172.850143  \n",
      "4     3.312475      0.612088  164.243088  \n",
      "\n",
      "[5 rows x 21 columns]\n"
     ]
    }
   ],
   "source": [
    "# Replace 'your_tree_name' with the actual tree name in your ROOT file\n",
    "tree = file[\"SignalTree\"]\n",
    "\n",
    "# Convert the tree to a pandas DataFrame\n",
    "df = tree.arrays(library=\"pd\")\n",
    "\n",
    "# Display the first few rows of the DataFrame to verify the data\n",
    "print(df.head())\n"
   ]
  },
  {
   "cell_type": "code",
   "execution_count": 18,
   "id": "89678481-7424-45a4-a56f-535513f989fb",
   "metadata": {},
   "outputs": [
    {
     "name": "stdout",
     "output_type": "stream",
     "text": [
      "Data has been written to /home/syed/Downloads/dataset/weights/Root.xlsx\n"
     ]
    }
   ],
   "source": [
    "# Specify the path for the output Excel file\n",
    "# Signal Tree \n",
    "import pandas as pd\n",
    "output_excel_path = \"/home/syed/Downloads/dataset/weights/Root.xlsx\"\n",
    "\n",
    "# Write the DataFrame to an Excel file\n",
    "df.to_excel(output_excel_path, index=False)\n",
    "\n",
    "print(f\"Data has been written to {output_excel_path}\")"
   ]
  },
  {
   "cell_type": "code",
   "execution_count": 20,
   "id": "24cad261-c6f8-4683-82be-ee752b3182e8",
   "metadata": {},
   "outputs": [
    {
     "name": "stdout",
     "output_type": "stream",
     "text": [
      "Data has been written to /home/syed/Downloads/dataset/weights/HBackgroundTTree.xlsx\n"
     ]
    }
   ],
   "source": [
    "# Specify the path for the output Excel file\n",
    "# Background Tree\n",
    "import pandas as pd\n",
    "output_excel_path = \"/home/syed/Downloads/dataset/weights/HBackgroundTTree.xlsx\"\n",
    "\n",
    "# Write the DataFrame to an Excel file\n",
    "df.to_excel(output_excel_path, index=False)\n",
    "\n",
    "print(f\"Data has been written to {output_excel_path}\")"
   ]
  },
  {
   "cell_type": "code",
   "execution_count": null,
   "id": "71ab1889-1102-4632-8bf2-1ef9d8037e1c",
   "metadata": {},
   "outputs": [],
   "source": []
  }
 ],
 "metadata": {
  "kernelspec": {
   "display_name": "Python 3 (ipykernel)",
   "language": "python",
   "name": "python3"
  },
  "language_info": {
   "codemirror_mode": {
    "name": "ipython",
    "version": 3
   },
   "file_extension": ".py",
   "mimetype": "text/x-python",
   "name": "python",
   "nbconvert_exporter": "python",
   "pygments_lexer": "ipython3",
   "version": "3.12.5"
  }
 },
 "nbformat": 4,
 "nbformat_minor": 5
}
